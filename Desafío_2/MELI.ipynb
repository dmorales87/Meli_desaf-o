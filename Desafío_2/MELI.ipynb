{
 "cells": [
  {
   "cell_type": "code",
   "execution_count": null,
   "metadata": {},
   "outputs": [],
   "source": [
    "import pandas as pd\n",
    "import requests\n",
    "from tqdm import tqdm\n",
    "import time"
   ]
  },
  {
   "cell_type": "markdown",
   "metadata": {},
   "source": [
    "## ETL search. \n",
    "### Se busca Ipone 11 Usados, Samsungs S20 Usados y Motorola Edge Usados\n",
    "\n",
    "Se exporta como .csv con el nombre \"Table_search.csv\"\n"
   ]
  },
  {
   "cell_type": "code",
   "execution_count": null,
   "metadata": {},
   "outputs": [],
   "source": [
    "\n",
    "URLs = [f'https://api.mercadolibre.com/sites/MLA/search?q=Iphone%2011&ITEM_CONDITION=2230581', #Iphone11 Usados\n",
    "        'https://api.mercadolibre.com/sites/MLA/search?q=Samsung%20S20&ITEM_CONDITION=2230581', #Samsung S20 Usados\n",
    "        'https://api.mercadolibre.com/sites/MLA/search?q=Motorola%20Edge&ITEM_CONDITION=2230581'] #Motorola Edge Usados\n",
    "\n",
    "df_search_c = pd.DataFrame()\n",
    "\n",
    "for x in tqdm(URLs):\n",
    "    req_search = requests.get(x)\n",
    "    search_items = req_search.json()\n",
    "    df_search = pd.json_normalize(search_items, record_path =['results'], \n",
    "                                     meta=['query',['paging','total'],['paging','limit']])\n",
    "    df_search_c = pd.concat([df_search_c, df_search], ignore_index=True);\n",
    "    \n",
    "df_search_c.to_csv('C:\\Diego\\MELI\\Table_search.csv',encoding='utf-8-sig')\n",
    "\n",
    "\n"
   ]
  },
  {
   "cell_type": "markdown",
   "metadata": {},
   "source": [
    "## ETL items. \n",
    "### A partir de la busqueda anterior se obtienen los diferentes Items de forma particular. \n",
    "\n",
    "Se exporta como .csv con el nombre \"Table_items.csv\"\n"
   ]
  },
  {
   "cell_type": "code",
   "execution_count": null,
   "metadata": {},
   "outputs": [],
   "source": [
    "df_list_items = df_search_c['id'].tolist()\n",
    "URL_item = r'https://api.mercadolibre.com/items/%s'\n",
    "\n",
    "df_items_c = pd.DataFrame()\n",
    "\n",
    "for n in tqdm(df_list_items):\n",
    "    URL_PR = URL_item % n\n",
    "    req_items = requests.get(URL_PR)\n",
    "    files_items = req_items.json()\n",
    "    df_items = pd.json_normalize(files_items)\n",
    "    df_items_c = pd.concat([df_items_c, df_items], ignore_index=True)\n",
    "\n",
    "df_items_c.to_csv('C:\\Diego\\MELI\\Table_items.csv',encoding='utf-8-sig')\n",
    "    \n",
    "# URL_2 = f'https://api.mercadolibre.com/items/MLA916135036'\n",
    "\n",
    "# r_2 = requests.get(URL_2)\n",
    "# files_2 = r_2.json()\n",
    "# df_2 = pd.DataFrame(files_2['sale_terms'])\n",
    "\n",
    "#df_nested_list = pd.json_normalize(files_2)\n"
   ]
  },
  {
   "cell_type": "markdown",
   "metadata": {},
   "source": [
    "## ETL items.\n",
    "### A partir de la busqueda anterior se obtienen las preguntas realizadas.\n",
    "\n",
    "Se exporta como .csv con el nombre \"Table_questions.csv\""
   ]
  },
  {
   "cell_type": "code",
   "execution_count": null,
   "metadata": {},
   "outputs": [],
   "source": [
    "df_list_items = df_search_c['id'].tolist()\n",
    "URL_q = r'https://api.mercadolibre.com/questions/search?item=%s'\n",
    "\n",
    "df_q_c = pd.DataFrame()\n",
    "\n",
    "for n in tqdm(df_list_items):\n",
    "    URL_PR_q = URL_q % n\n",
    "    q_items = requests.get(URL_PR_q)\n",
    "    files_q = q_items.json()\n",
    "    s = 'status' in files_q\n",
    "    while ((s == True) and (files_q['status'] == 429)):    ##Reintentos frente a errores de consultas\n",
    "             q_items = requests.get(URL_PR_q)\n",
    "             files_q = q_items.json()\n",
    "             s = 'status' in files_q\n",
    "    df_q = pd.json_normalize(files_q)\n",
    "    df_q_c = pd.concat([df_q_c, df_q], ignore_index=True)\n",
    "\n",
    "\n",
    "    \n",
    "df_q_csv = df_q_c[['total','limit','filters.item']]\n",
    "\n",
    "df_q_csv.to_csv('C:\\Diego\\MELI\\Table_questions.csv',encoding='utf-8-sig',sep=',')\n"
   ]
  },
  {
   "cell_type": "markdown",
   "metadata": {},
   "source": [
    "## ETL items.\n",
    "### A partir de la busqueda anterior se obtienen los usuarios que realizaron las publicaciones (sellers).\n",
    "\n",
    "Se exporta como .csv con el nombre \"Table_users.csv\""
   ]
  },
  {
   "cell_type": "code",
   "execution_count": null,
   "metadata": {
    "scrolled": false
   },
   "outputs": [],
   "source": [
    "df_list_users = df_items_c['seller_id'].tolist()\n",
    "\n",
    "URL_users = r'https://api.mercadolibre.com/users/%s'\n",
    "\n",
    "df_users_c = pd.DataFrame()\n",
    "\n",
    "for n in tqdm(df_list_users):\n",
    "    URL_PR = URL_users % n\n",
    "    req_users = requests.get(URL_PR)\n",
    "    files_users = req_users.json()\n",
    "    df_users = pd.json_normalize(files_users)\n",
    "    df_users_c = pd.concat([df_users_c, df_users], ignore_index=True)\n",
    "\n",
    "df_users_c.to_csv('C:\\Diego\\MELI\\Table_users.csv',encoding='utf-8-sig')"
   ]
  },
  {
   "cell_type": "code",
   "execution_count": null,
   "metadata": {},
   "outputs": [],
   "source": [
    "df_search_c.describe()"
   ]
  }
 ],
 "metadata": {
  "kernelspec": {
   "display_name": "Python 3",
   "language": "python",
   "name": "python3"
  },
  "language_info": {
   "codemirror_mode": {
    "name": "ipython",
    "version": 3
   },
   "file_extension": ".py",
   "mimetype": "text/x-python",
   "name": "python",
   "nbconvert_exporter": "python",
   "pygments_lexer": "ipython3",
   "version": "3.8.3"
  }
 },
 "nbformat": 4,
 "nbformat_minor": 4
}
